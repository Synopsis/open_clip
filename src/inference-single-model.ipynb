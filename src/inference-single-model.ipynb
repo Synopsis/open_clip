{
 "cells": [
  {
   "cell_type": "code",
   "execution_count": null,
   "id": "e78e09d2",
   "metadata": {},
   "outputs": [],
   "source": [
    "%load_ext autoreload\n",
    "%autoreload 2"
   ]
  },
  {
   "cell_type": "code",
   "execution_count": null,
   "id": "d74571bf",
   "metadata": {},
   "outputs": [],
   "source": [
    "from upyog.all import *\n",
    "if True:\n",
    "    import sys\n",
    "    sys.path.append(\"/home/synopsis/git/CinemaNet-Training/\")\n",
    "    sys.path.append(\"/home/synopsis/git/CinemaNet-CLIP/\")\n",
    "    sys.path.append(\"/home/synopsis/git/YOLOX-Custom/\")\n",
    "    sys.path.append(\"/home/synopsis/git/YOLO-CinemaNet/\")\n",
    "    sys.path.append(\"/home/synopsis/git/icevision/\")\n",
    "    sys.path.append(\"/home/synopsis/git/labelling-workflows/\")\n",
    "    sys.path.append(\"/home/synopsis/git/amalgam/\")\n",
    "    sys.path.append(\"/home/synopsis/git/cinemanet-multitask-classification/\")\n",
    "    sys.path.append(\"/home/synopsis/git/Synopsis.py/\")\n",
    "\n",
    "import torch\n",
    "import open_clip\n",
    "from cinemanet_clip.inference import *\n",
    "from cinemanet_clip.utils import *\n",
    "from training.inference import InferenceModel"
   ]
  },
  {
   "cell_type": "markdown",
   "id": "556be25d",
   "metadata": {},
   "source": [
    "### Load Model"
   ]
  },
  {
   "cell_type": "code",
   "execution_count": null,
   "id": "ccd1974a",
   "metadata": {},
   "outputs": [],
   "source": [
    "m1 = InferenceModel(\n",
    "               arch = \"convnext_base_w\",\n",
    "             device = 1,\n",
    "         pretrained = \"laion_aesthetic_s13b_b82k\",\n",
    ")"
   ]
  },
  {
   "cell_type": "markdown",
   "id": "ca4e5232",
   "metadata": {},
   "source": [
    "This is slightly hacky. I will clean this up tomorrow, so it's more robust. "
   ]
  },
  {
   "cell_type": "code",
   "execution_count": null,
   "id": "44b69caa",
   "metadata": {},
   "outputs": [],
   "source": [
    "# path = \"/home/synopsis/datasets/serialised-datasets/CLIP/CLIP-Embeddings-Cached/convnext_base_w--laion2b_s13b_b82k__ConvNeXT-Base-W-PreTrained.feather\"\n",
    "path = \"/mnt/Data/MODELS/OPEN_CLIP/2023_02_26-13_34_33-model_convnext_base_w-lr_0.0001-b_256-j_8-p_amp_bf16/prompt-matches__shotdeck_sample_830k/convnext_base_w--laion_aesthetic_s13b_b82k--finetuned-alpha-0.0__2023_02_26-13_34_33.feather\"\n",
    "df = pd.read_feather(path)"
   ]
  },
  {
   "cell_type": "code",
   "execution_count": null,
   "id": "ee748037",
   "metadata": {},
   "outputs": [],
   "source": [
    "df.filepath = df.filepath.apply(lambda f: f.replace(\"/home/synopsis/datasets/shotdeck-thumbs/\", \"/mnt/DataSSD/datasets/shotdeck-thumbs/\"))"
   ]
  },
  {
   "cell_type": "markdown",
   "id": "67398161",
   "metadata": {},
   "source": [
    "### View Top Matches"
   ]
  },
  {
   "cell_type": "code",
   "execution_count": null,
   "id": "6c0f3fea",
   "metadata": {},
   "outputs": [],
   "source": [
    "from cinemanet_clip.inference import (\n",
    "    EVALUATION_PROMPTS, CELEBRITY_PROMPTS, EMOTION_PROMPTS)"
   ]
  },
  {
   "cell_type": "code",
   "execution_count": null,
   "id": "4ff4899b",
   "metadata": {},
   "outputs": [],
   "source": [
    "embeds = np.stack(df.embedding)\n",
    "embeds.shape"
   ]
  },
  {
   "cell_type": "code",
   "execution_count": null,
   "id": "4077e75f",
   "metadata": {},
   "outputs": [],
   "source": [
    "prompt = \"eating a flower\"\n",
    "N = 21"
   ]
  },
  {
   "cell_type": "code",
   "execution_count": null,
   "id": "db202d03",
   "metadata": {
    "scrolled": false
   },
   "outputs": [],
   "source": [
    "top_matches = get_top_matches(prompt, m1.model, embeds, m1.tokenizer)\n",
    "view_top_matches(df, top_matches, N, ncol=3) # .resize((896, 672))"
   ]
  },
  {
   "cell_type": "code",
   "execution_count": null,
   "id": "3ab844fe",
   "metadata": {},
   "outputs": [],
   "source": []
  },
  {
   "cell_type": "code",
   "execution_count": null,
   "id": "7a43307a",
   "metadata": {},
   "outputs": [],
   "source": []
  },
  {
   "cell_type": "code",
   "execution_count": null,
   "id": "b48af055",
   "metadata": {},
   "outputs": [],
   "source": []
  },
  {
   "cell_type": "code",
   "execution_count": null,
   "id": "5094a09a",
   "metadata": {},
   "outputs": [],
   "source": []
  }
 ],
 "metadata": {
  "kernelspec": {
   "display_name": "Python 3 (ipykernel)",
   "language": "python",
   "name": "python3"
  },
  "language_info": {
   "codemirror_mode": {
    "name": "ipython",
    "version": 3
   },
   "file_extension": ".py",
   "mimetype": "text/x-python",
   "name": "python",
   "nbconvert_exporter": "python",
   "pygments_lexer": "ipython3",
   "version": "3.8.12"
  }
 },
 "nbformat": 4,
 "nbformat_minor": 5
}
