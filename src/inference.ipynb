{
 "cells": [
  {
   "cell_type": "code",
   "execution_count": null,
   "id": "9092e450",
   "metadata": {},
   "outputs": [],
   "source": [
    "%load_ext autoreload\n",
    "%autoreload 2"
   ]
  },
  {
   "cell_type": "code",
   "execution_count": null,
   "id": "02994c8c",
   "metadata": {},
   "outputs": [],
   "source": [
    "import torch\n",
    "import open_clip\n",
    "\n",
    "from upyog.all import *\n",
    "if True:\n",
    "    import sys\n",
    "    sys.path.append(\"/home/synopsis/git/CinemaNet-Training/\")\n",
    "    sys.path.append(\"/home/synopsis/git/YOLOX-Custom/\")\n",
    "    sys.path.append(\"/home/synopsis/git/YOLO-CinemaNet/\")\n",
    "    sys.path.append(\"/home/synopsis/git/icevision/\")\n",
    "    sys.path.append(\"/home/synopsis/git/labelling-workflows/\")\n",
    "    sys.path.append(\"/home/synopsis/git/amalgam/\")\n",
    "    sys.path.append(\"/home/synopsis/git/cinemanet-multitask-classification/\")\n",
    "    sys.path.append(\"/home/synopsis/git/Synopsis.py/\")"
   ]
  },
  {
   "cell_type": "code",
   "execution_count": null,
   "id": "e6d99039",
   "metadata": {},
   "outputs": [],
   "source": [
    "from cinemanet.CLIP.inference import *\n",
    "from cinemanet.CLIP.utils import *"
   ]
  },
  {
   "cell_type": "code",
   "execution_count": null,
   "id": "66f0a304",
   "metadata": {},
   "outputs": [],
   "source": [
    "torch.cuda.set_device(0)"
   ]
  },
  {
   "cell_type": "markdown",
   "id": "61619ffc",
   "metadata": {},
   "source": [
    "#### Load Models"
   ]
  },
  {
   "cell_type": "code",
   "execution_count": null,
   "id": "049ee3a8",
   "metadata": {},
   "outputs": [],
   "source": [
    "variant = 'ViT-L-14'\n",
    "device = 2\n",
    "\n",
    "ckpt_path = \"./logs/2022_12_14-08_05_35-model_ViT-L-14-lr_0.0001-b_56-j_8-p_amp_bf16/checkpoints/epoch_3.pt\"\n",
    "alpha = 0.5"
   ]
  },
  {
   "cell_type": "code",
   "execution_count": null,
   "id": "cc995813",
   "metadata": {},
   "outputs": [],
   "source": [
    "tokenizer = open_clip.get_tokenizer(variant)\n",
    "\n",
    "model_stock = load_model(variant, \"cpu\", 'openai')\n",
    "model_finetune = load_model(variant, \"cpu\", None, ckpt_path)\n",
    "\n",
    "sd_stock = model_stock.state_dict()\n",
    "sd_finetune = model_finetune.state_dict()\n",
    "blended_wts = interpolate_weights(sd_stock, sd_finetune, alpha)\n",
    "\n",
    "model_stock = load_model(variant, device, 'openai')\n",
    "model_finetune = load_model(variant, device, None, ckpt_path)\n",
    "\n",
    "model_finetune.load_state_dict(blended_wts)"
   ]
  },
  {
   "cell_type": "markdown",
   "id": "0d4fffe2",
   "metadata": {},
   "source": [
    "#### Run Inference"
   ]
  },
  {
   "cell_type": "code",
   "execution_count": null,
   "id": "85902e80",
   "metadata": {},
   "outputs": [],
   "source": [
    "path_stock_embedding = \"/home/synopsis/datasets/serialised-datasets/CLIP/ViT-L14__shotdeck-embeddings.feather\"\n",
    "path_finetune_embedding = \"/home/synopsis/datasets/serialised-datasets/CLIP/ViT-L14__finetune-last-5__1-epoch__multicap__alpha-0.5__shotdeck-embeddings.feather\"\n",
    "\n",
    "df_stock = pd.read_feather(path_stock_embedding)\n",
    "df_finetune = pd.read_feather(path_finetune_embedding)"
   ]
  },
  {
   "cell_type": "code",
   "execution_count": null,
   "id": "bb82e0a9",
   "metadata": {},
   "outputs": [],
   "source": [
    "filt = df_stock.filepath.isin(df_finetune.filepath)\n",
    "df_stock = df_stock[filt]\n",
    "\n",
    "filt = df_finetune.filepath.isin(df_stock.filepath)\n",
    "df_finetune = df_finetune[filt]\n",
    "\n",
    "df_stock = df_stock.sort_values(\"filepath\").reset_index(drop=True)\n",
    "df_finetune = df_finetune.sort_values(\"filepath\").reset_index(drop=True)"
   ]
  },
  {
   "cell_type": "raw",
   "id": "b20ad4ae",
   "metadata": {},
   "source": [
    "torch.cuda.empty_cache()"
   ]
  },
  {
   "cell_type": "markdown",
   "id": "c304f9d4",
   "metadata": {},
   "source": [
    "#### View Top Matches"
   ]
  },
  {
   "cell_type": "code",
   "execution_count": null,
   "id": "14c86ee3",
   "metadata": {},
   "outputs": [],
   "source": [
    "stock_embeddings = np.stack(df_stock.embedding)\n",
    "finetune_embeddings = np.stack(df_finetune.embedding)\n",
    "\n",
    "stock_embeddings.shape, finetune_embeddings.shape"
   ]
  },
  {
   "cell_type": "code",
   "execution_count": null,
   "id": "764e250e",
   "metadata": {},
   "outputs": [],
   "source": [
    "rich.print(EVALUATION_PROMPTS)"
   ]
  },
  {
   "cell_type": "code",
   "execution_count": null,
   "id": "98f6a350",
   "metadata": {
    "scrolled": false
   },
   "outputs": [],
   "source": [
    "N = 21\n",
    "\n",
    "for prompt in tqdm(EVALUATION_PROMPTS, \"Visualising Results...\"):\n",
    "    top_stock = get_top_matches(prompt, model_stock, stock_embeddings, tokenizer)\n",
    "    top_finetune = get_top_matches(prompt, model_finetune, finetune_embeddings, tokenizer)\n",
    "\n",
    "    matches_stock = view_top_matches(df_stock, top_stock, N)\n",
    "    matches_finetune = view_top_matches(df_finetune, top_finetune, N)\n",
    "\n",
    "    sep = Image.new(\"RGB\", (50, matches_stock.height), color=(255,255,255))\n",
    "\n",
    "    rich.print(f\"QUERY: '{query}'\")\n",
    "    display(matches_stock | sep | matches_finetune)\n",
    "    \n",
    "    rich.print(\"-\" * 90)"
   ]
  },
  {
   "cell_type": "code",
   "execution_count": null,
   "id": "b58d8459",
   "metadata": {},
   "outputs": [],
   "source": []
  },
  {
   "cell_type": "code",
   "execution_count": null,
   "id": "e074f7ff",
   "metadata": {},
   "outputs": [],
   "source": []
  },
  {
   "cell_type": "code",
   "execution_count": null,
   "id": "c7a29004",
   "metadata": {},
   "outputs": [],
   "source": []
  },
  {
   "cell_type": "code",
   "execution_count": null,
   "id": "08dcb9e6",
   "metadata": {},
   "outputs": [],
   "source": []
  }
 ],
 "metadata": {
  "kernelspec": {
   "display_name": "Python 3 (ipykernel)",
   "language": "python",
   "name": "python3"
  },
  "language_info": {
   "codemirror_mode": {
    "name": "ipython",
    "version": 3
   },
   "file_extension": ".py",
   "mimetype": "text/x-python",
   "name": "python",
   "nbconvert_exporter": "python",
   "pygments_lexer": "ipython3",
   "version": "3.8.12"
  }
 },
 "nbformat": 4,
 "nbformat_minor": 5
}
