{
 "cells": [
  {
   "cell_type": "code",
   "execution_count": null,
   "id": "44fe389a",
   "metadata": {},
   "outputs": [],
   "source": [
    "%load_ext autoreload\n",
    "%autoreload 2"
   ]
  },
  {
   "cell_type": "markdown",
   "id": "5475fbcd",
   "metadata": {},
   "source": [
    "### Imports"
   ]
  },
  {
   "cell_type": "code",
   "execution_count": null,
   "id": "57efeda1",
   "metadata": {},
   "outputs": [],
   "source": [
    "import torch\n",
    "import open_clip\n",
    "\n",
    "from upyog.all import *\n",
    "from cinemanet.CLIP.prompt_comparisons import *\n",
    "\n",
    "np.set_printoptions(4, suppress=True)"
   ]
  },
  {
   "cell_type": "markdown",
   "id": "f35a50cc",
   "metadata": {},
   "source": [
    "### Load Models & Tokenizer"
   ]
  },
  {
   "cell_type": "code",
   "execution_count": null,
   "id": "9ac740bc",
   "metadata": {},
   "outputs": [],
   "source": [
    "tokenizer = AutoTokenizer.from_pretrained(\"openai/clip-vit-large-patch14\")"
   ]
  },
  {
   "cell_type": "code",
   "execution_count": null,
   "id": "b415514e",
   "metadata": {},
   "outputs": [],
   "source": [
    "m1 = open_clip.create_model(\"ViT-L-14\", \"openai\").eval()\n",
    "m2 = ..."
   ]
  },
  {
   "cell_type": "markdown",
   "id": "afd1d9e1",
   "metadata": {},
   "source": [
    "### View Prompt Similarity of a Single Model"
   ]
  },
  {
   "cell_type": "code",
   "execution_count": null,
   "id": "5ef6ac2b",
   "metadata": {},
   "outputs": [],
   "source": [
    "prompts = [\n",
    "    \"A cinematc image\",\n",
    "    \"A film still\",\n",
    "    \"A photo\",\n",
    "    \"An image\",\n",
    "]\n",
    "_= view_prompt_similarity(prompts, tokenizer, m1)"
   ]
  },
  {
   "cell_type": "code",
   "execution_count": null,
   "id": "81994534",
   "metadata": {},
   "outputs": [],
   "source": [
    "prompts = [\n",
    "    \"A cinematic medium closeup shot\",\n",
    "    \"A photo with medium closeup framing\",\n",
    "]\n",
    "_= view_prompt_similarity(prompts, tokenizer, m1)"
   ]
  },
  {
   "cell_type": "code",
   "execution_count": null,
   "id": "7dcd8f71",
   "metadata": {},
   "outputs": [],
   "source": [
    "prompts = [\n",
    "    \"A shot with closeup framing\",\n",
    "    \"A shot with medium closeup framing\",\n",
    "    \"A shot with extreme wide framing\",\n",
    "    \"A shot with wide framing\",\n",
    "]\n",
    "_= view_prompt_similarity(prompts, tokenizer, m1)"
   ]
  },
  {
   "cell_type": "markdown",
   "id": "0d9552b9",
   "metadata": {},
   "source": [
    "### Compare Prompt Similarities Between Two Models"
   ]
  },
  {
   "cell_type": "code",
   "execution_count": null,
   "id": "a14d7a93",
   "metadata": {},
   "outputs": [],
   "source": [
    "prompts = [\n",
    "    \"A shot with closeup framing\",\n",
    "    \"A shot with medium closeup framing\",\n",
    "    \"A shot with extreme wide framing\",\n",
    "    \"A shot with wide framing\",\n",
    "]\n",
    "_= compare_prompt_similarities(\n",
    "    prompts, tokenizer, models=(m, m),\n",
    "    titles = (\"Model 1\", \"Model 2\")\n",
    ")"
   ]
  }
 ],
 "metadata": {
  "kernelspec": {
   "display_name": "Python 3 (ipykernel)",
   "language": "python",
   "name": "python3"
  },
  "language_info": {
   "codemirror_mode": {
    "name": "ipython",
    "version": 3
   },
   "file_extension": ".py",
   "mimetype": "text/x-python",
   "name": "python",
   "nbconvert_exporter": "python",
   "pygments_lexer": "ipython3",
   "version": "3.8.13"
  }
 },
 "nbformat": 4,
 "nbformat_minor": 5
}
