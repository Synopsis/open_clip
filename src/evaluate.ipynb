{
 "cells": [
  {
   "cell_type": "markdown",
   "id": "dfe83dea",
   "metadata": {},
   "source": [
    "### Imports"
   ]
  },
  {
   "cell_type": "code",
   "execution_count": null,
   "id": "d6028112",
   "metadata": {
    "ExecuteTime": {
     "end_time": "2023-02-16T08:12:29.865196Z",
     "start_time": "2023-02-16T08:12:29.855973Z"
    }
   },
   "outputs": [],
   "source": [
    "%load_ext autoreload\n",
    "%autoreload 2"
   ]
  },
  {
   "cell_type": "code",
   "execution_count": null,
   "id": "dba18d84",
   "metadata": {
    "ExecuteTime": {
     "end_time": "2023-02-16T08:12:31.647390Z",
     "start_time": "2023-02-16T08:12:29.868336Z"
    }
   },
   "outputs": [],
   "source": [
    "if True:\n",
    "    import sys\n",
    "    sys.path.append(\"/home/synopsis/git/CinemaNet-Training/\")\n",
    "    sys.path.append(\"/home/synopsis/git/CinemaNet-CLIP/\")\n",
    "    sys.path.append(\"/home/synopsis/git/YOLOX-Custom/\")\n",
    "    sys.path.append(\"/home/synopsis/git/YOLO-CinemaNet/\")\n",
    "    sys.path.append(\"/home/synopsis/git/icevision/\")\n",
    "    sys.path.append(\"/home/synopsis/git/labelling-workflows/\")\n",
    "    sys.path.append(\"/home/synopsis/git/amalgam/\")\n",
    "    sys.path.append(\"/home/synopsis/git/cinemanet-multitask-classification/\")\n",
    "    sys.path.append(\"/home/synopsis/git/Synopsis.py/\")\n",
    "\n",
    "from training.inference import InferenceModel\n",
    "from upyog.all import *\n",
    "\n",
    "import seaborn as sns\n",
    "import open_clip\n",
    "import torch"
   ]
  },
  {
   "cell_type": "markdown",
   "id": "61619ffc",
   "metadata": {},
   "source": [
    "### Load Models"
   ]
  },
  {
   "cell_type": "code",
   "execution_count": null,
   "id": "235ccfa3",
   "metadata": {},
   "outputs": [],
   "source": [
    "open_clip.list_pretrained_tags_by_model(\"convnext_base_w\")"
   ]
  },
  {
   "cell_type": "code",
   "execution_count": null,
   "id": "8ededbf4",
   "metadata": {},
   "outputs": [],
   "source": [
    "# Load either a pretrained model, or a trained checkpoint\n",
    "\n",
    "# inf = InferenceModel.from_ckpt_path(\n",
    "#     \"training/logs/2023_05_09-12_54_19-model_convnext_base_w-lr_0.0001-b_256-j_8-p_amp_bf16/checkpoints/epoch_15.pt\",\n",
    "#     device=0, alpha=0.75, batch_size=128, path_embedding=None, experiment_name=\"oi\"\n",
    "# )\n",
    "\n",
    "inf = InferenceModel(\"convnext_base_w\", \"laion_aesthetic_s13b_b82k\", 0)"
   ]
  },
  {
   "cell_type": "markdown",
   "id": "a794a86a",
   "metadata": {},
   "source": [
    "### Run Evaluations"
   ]
  },
  {
   "cell_type": "code",
   "execution_count": null,
   "id": "aa62c3a7",
   "metadata": {},
   "outputs": [],
   "source": [
    "inf.eval_imagenet()"
   ]
  },
  {
   "cell_type": "code",
   "execution_count": null,
   "id": "70d15ffb",
   "metadata": {},
   "outputs": [],
   "source": [
    "inf.eval_cinemanet()"
   ]
  },
  {
   "cell_type": "code",
   "execution_count": null,
   "id": "14cd9af1",
   "metadata": {},
   "outputs": [],
   "source": [
    "self.eval_shotdeck_clip_datasets()"
   ]
  }
 ],
 "metadata": {
  "kernelspec": {
   "display_name": "Python 3 (ipykernel)",
   "language": "python",
   "name": "python3"
  },
  "language_info": {
   "codemirror_mode": {
    "name": "ipython",
    "version": 3
   },
   "file_extension": ".py",
   "mimetype": "text/x-python",
   "name": "python",
   "nbconvert_exporter": "python",
   "pygments_lexer": "ipython3",
   "version": "3.8.12"
  }
 },
 "nbformat": 4,
 "nbformat_minor": 5
}
