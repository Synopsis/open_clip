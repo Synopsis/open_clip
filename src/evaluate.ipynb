{
 "cells": [
  {
   "cell_type": "code",
   "execution_count": null,
   "id": "d6028112",
   "metadata": {},
   "outputs": [],
   "source": [
    "%load_ext autoreload\n",
    "%autoreload 2"
   ]
  },
  {
   "cell_type": "code",
   "execution_count": null,
   "id": "dba18d84",
   "metadata": {},
   "outputs": [],
   "source": [
    "from evaluation import *\n",
    "import seaborn as sns"
   ]
  },
  {
   "cell_type": "markdown",
   "id": "61619ffc",
   "metadata": {
    "heading_collapsed": true
   },
   "source": [
    "### Load Models"
   ]
  },
  {
   "cell_type": "code",
   "execution_count": null,
   "id": "e745c341",
   "metadata": {
    "hidden": true
   },
   "outputs": [],
   "source": [
    "variant = 'ViT-L-14'\n",
    "ckpt_path = \"./logs/_2022_12_13-18_19_55-model_ViT-L-14-lr_0.0001-b_56-j_8-p_amp_bf16/checkpoints/epoch_3.pt\""
   ]
  },
  {
   "cell_type": "code",
   "execution_count": null,
   "id": "e2baed8b",
   "metadata": {
    "hidden": true
   },
   "outputs": [],
   "source": [
    "df = evaluate_model(variant, 'openai', ckpt_path, alphas=[0.5, 0.7], device=2, batch_size=256)"
   ]
  },
  {
   "cell_type": "markdown",
   "id": "593933e2",
   "metadata": {
    "heading_collapsed": true
   },
   "source": [
    "### Visualise Results"
   ]
  },
  {
   "cell_type": "code",
   "execution_count": null,
   "id": "a21beeb1",
   "metadata": {
    "hidden": true
   },
   "outputs": [],
   "source": [
    "files = get_files(\"/home/synopsis/git/open_clip/src/val_logs/\", extensions=[\".csv\"])\n",
    "df = pd.concat([pd.read_csv(f) for f in files])\n",
    "df = df.reset_index(drop=True)\n",
    "df[\"Accuracy\"] = df[\"Accuracy\"].apply(lambda x: round(100*x))\n",
    "df = df[df.Alpha.isin([0.5, 1.0])]\n",
    "\n",
    "df[\"Experiment\"] = df.Experiment.replace(\n",
    "    {'Last-5-Unfrozen': 'Last-5-Unfrozen_Epoch-3',\n",
    "     'Fully-Unfrozen': 'Fully-Unfrozen__Thresh-0.9__Epoch-3'\n",
    "    }\n",
    ")"
   ]
  },
  {
   "cell_type": "code",
   "execution_count": null,
   "id": "298e75e8",
   "metadata": {
    "hidden": true
   },
   "outputs": [],
   "source": [
    "sorted(files)"
   ]
  },
  {
   "cell_type": "code",
   "execution_count": null,
   "id": "65c2b8e2",
   "metadata": {
    "hidden": true
   },
   "outputs": [],
   "source": [
    "sorted(df.Experiment.unique())"
   ]
  },
  {
   "cell_type": "code",
   "execution_count": null,
   "id": "15cf25f0",
   "metadata": {
    "hidden": true
   },
   "outputs": [],
   "source": [
    "exps = [\n",
    "    'Fully-Unfrozen__No-Thresh__Epoch-4_metrics.csv',\n",
    "    'Fully-Unfrozen__Thresh-0.9__Epoch-3',\n",
    "]\n",
    "filt = df[\"Experiment\"].isin(exps)\n",
    "sub = df[filt]\n",
    "sub = sub[sub.Alpha == 0.5]\n",
    "sub = sub.sort_values([\"Experiment\", \"Categories\"])\n",
    "sub"
   ]
  },
  {
   "cell_type": "code",
   "execution_count": null,
   "id": "d5fb2ba7",
   "metadata": {
    "hidden": true
   },
   "outputs": [],
   "source": [
    "# exp = \"Last-3-Unfrozen_Epoch-3_metrics.csv\"\n",
    "# ss = df[df.Experiment == exp]\n",
    "\n",
    "plt.rcParams[\"figure.figsize\"] = [25, 10]\n",
    "ax=sns.barplot(\n",
    "    x=\"Categories\", y=\"Accuracy\", hue=\"Experiment\", data=sub, ci=0,\n",
    ")\n",
    "_= [ax.bar_label(c) for c in ax.containers]\n",
    "_= ax.set(title = f\"Dataset With / Without Thresholding @Alpha=0.5\")\n",
    "_= plt.xticks(rotation=90)"
   ]
  },
  {
   "cell_type": "code",
   "execution_count": null,
   "id": "ce4fb88e",
   "metadata": {
    "hidden": true
   },
   "outputs": [],
   "source": [
    "plt.rcParams[\"figure.figsize\"] = [20, 10]\n",
    "g = sns.FacetGrid(sub, row=\"Alpha\", height=10, aspect=2)\n",
    "g = g.map(sns.barplot, \"Categories\", \"Accuracy\", \"Experiment\", palette=\"crest\")\n",
    "_= plt.xticks(rotation=90)"
   ]
  }
 ],
 "metadata": {
  "kernelspec": {
   "display_name": "Python 3 (ipykernel)",
   "language": "python",
   "name": "python3"
  },
  "language_info": {
   "codemirror_mode": {
    "name": "ipython",
    "version": 3
   },
   "file_extension": ".py",
   "mimetype": "text/x-python",
   "name": "python",
   "nbconvert_exporter": "python",
   "pygments_lexer": "ipython3",
   "version": "3.8.12"
  }
 },
 "nbformat": 4,
 "nbformat_minor": 5
}
